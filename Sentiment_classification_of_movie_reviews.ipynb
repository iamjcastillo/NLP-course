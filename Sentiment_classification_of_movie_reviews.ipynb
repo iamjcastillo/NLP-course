{
  "nbformat": 4,
  "nbformat_minor": 0,
  "metadata": {
    "colab": {
      "name": "Sentiment classification of movie reviews.ipynb",
      "version": "0.3.2",
      "provenance": [],
      "collapsed_sections": [
        "lBCDzQhp4mmn",
        "2gccmKp-4KBH",
        "Hqq9Gbt26Ah6"
      ]
    },
    "kernelspec": {
      "name": "python3",
      "display_name": "Python 3"
    },
    "accelerator": "GPU"
  },
  "cells": [
    {
      "cell_type": "markdown",
      "metadata": {
        "id": "ZqcQgRmtjIkm",
        "colab_type": "text"
      },
      "source": [
        "# **Sentiment classification of movie reviews**"
      ]
    },
    {
      "cell_type": "markdown",
      "metadata": {
        "id": "qmYuPNndla7E",
        "colab_type": "text"
      },
      "source": [
        "For more information check:\n",
        "https://github.com/fastai/course-nlp/blob/master/3b-more-details.ipynb"
      ]
    },
    {
      "cell_type": "markdown",
      "metadata": {
        "id": "bW5DzIKdrE24",
        "colab_type": "text"
      },
      "source": [
        "## **IMBD dataset**"
      ]
    },
    {
      "cell_type": "markdown",
      "metadata": {
        "id": "0xDISmbWrKl9",
        "colab_type": "text"
      },
      "source": [
        "This dataset contains an even number of positive and negative reviews. Neutral reviews weren't included. \n",
        "\n",
        "Our task here will be to predict the polarity if a given text."
      ]
    },
    {
      "cell_type": "code",
      "metadata": {
        "id": "a4JXQNpejl8j",
        "colab_type": "code",
        "colab": {}
      },
      "source": [
        "from fastai import *\n",
        "from fastai.text import *\n",
        "\n",
        "import sklearn.feature_extraction.text as sklearn_text"
      ],
      "execution_count": 0,
      "outputs": []
    },
    {
      "cell_type": "markdown",
      "metadata": {
        "id": "7f5iAIaKryTi",
        "colab_type": "text"
      },
      "source": [
        "Some of the datasets we can use are the following:"
      ]
    },
    {
      "cell_type": "code",
      "metadata": {
        "id": "kSnZZzgirq-d",
        "colab_type": "code",
        "colab": {}
      },
      "source": [
        "?? URLs"
      ],
      "execution_count": 0,
      "outputs": []
    },
    {
      "cell_type": "code",
      "metadata": {
        "id": "E3T6dcEbr8lC",
        "colab_type": "code",
        "outputId": "9e062273-44c2-4ee4-e876-3b36c65bb084",
        "colab": {
          "base_uri": "https://localhost:8080/",
          "height": 34
        }
      },
      "source": [
        "path = untar_data(URLs.IMDB_SAMPLE)\n",
        "path"
      ],
      "execution_count": 3,
      "outputs": [
        {
          "output_type": "execute_result",
          "data": {
            "text/plain": [
              "PosixPath('/root/.fastai/data/imdb_sample')"
            ]
          },
          "metadata": {
            "tags": []
          },
          "execution_count": 3
        }
      ]
    },
    {
      "cell_type": "code",
      "metadata": {
        "id": "7OgVG1qrsGq3",
        "colab_type": "code",
        "outputId": "c61fabfc-b13d-4332-c3fe-e0f89094c929",
        "colab": {
          "base_uri": "https://localhost:8080/",
          "height": 204
        }
      },
      "source": [
        "df = pd.read_csv(path/'texts.csv')\n",
        "df.head()"
      ],
      "execution_count": 4,
      "outputs": [
        {
          "output_type": "execute_result",
          "data": {
            "text/html": [
              "<div>\n",
              "<style scoped>\n",
              "    .dataframe tbody tr th:only-of-type {\n",
              "        vertical-align: middle;\n",
              "    }\n",
              "\n",
              "    .dataframe tbody tr th {\n",
              "        vertical-align: top;\n",
              "    }\n",
              "\n",
              "    .dataframe thead th {\n",
              "        text-align: right;\n",
              "    }\n",
              "</style>\n",
              "<table border=\"1\" class=\"dataframe\">\n",
              "  <thead>\n",
              "    <tr style=\"text-align: right;\">\n",
              "      <th></th>\n",
              "      <th>label</th>\n",
              "      <th>text</th>\n",
              "      <th>is_valid</th>\n",
              "    </tr>\n",
              "  </thead>\n",
              "  <tbody>\n",
              "    <tr>\n",
              "      <th>0</th>\n",
              "      <td>negative</td>\n",
              "      <td>Un-bleeping-believable! Meg Ryan doesn't even ...</td>\n",
              "      <td>False</td>\n",
              "    </tr>\n",
              "    <tr>\n",
              "      <th>1</th>\n",
              "      <td>positive</td>\n",
              "      <td>This is a extremely well-made film. The acting...</td>\n",
              "      <td>False</td>\n",
              "    </tr>\n",
              "    <tr>\n",
              "      <th>2</th>\n",
              "      <td>negative</td>\n",
              "      <td>Every once in a long while a movie will come a...</td>\n",
              "      <td>False</td>\n",
              "    </tr>\n",
              "    <tr>\n",
              "      <th>3</th>\n",
              "      <td>positive</td>\n",
              "      <td>Name just says it all. I watched this movie wi...</td>\n",
              "      <td>False</td>\n",
              "    </tr>\n",
              "    <tr>\n",
              "      <th>4</th>\n",
              "      <td>negative</td>\n",
              "      <td>This movie succeeds at being one of the most u...</td>\n",
              "      <td>False</td>\n",
              "    </tr>\n",
              "  </tbody>\n",
              "</table>\n",
              "</div>"
            ],
            "text/plain": [
              "      label                                               text  is_valid\n",
              "0  negative  Un-bleeping-believable! Meg Ryan doesn't even ...     False\n",
              "1  positive  This is a extremely well-made film. The acting...     False\n",
              "2  negative  Every once in a long while a movie will come a...     False\n",
              "3  positive  Name just says it all. I watched this movie wi...     False\n",
              "4  negative  This movie succeeds at being one of the most u...     False"
            ]
          },
          "metadata": {
            "tags": []
          },
          "execution_count": 4
        }
      ]
    },
    {
      "cell_type": "markdown",
      "metadata": {
        "id": "RkiZdSLjsWZu",
        "colab_type": "text"
      },
      "source": [
        "From the fast.ai library, we'll use textlist"
      ]
    },
    {
      "cell_type": "code",
      "metadata": {
        "id": "HUlm3XR-sPOS",
        "colab_type": "code",
        "colab": {}
      },
      "source": [
        "movie_reviews = (TextList.from_csv(path, 'texts.csv', cols='text')\n",
        "                         .split_from_df(col=2).label_from_df(cols=0))"
      ],
      "execution_count": 0,
      "outputs": []
    },
    {
      "cell_type": "markdown",
      "metadata": {
        "id": "FnO9GHZssnVL",
        "colab_type": "text"
      },
      "source": [
        "We can see some of these reviews before going on."
      ]
    },
    {
      "cell_type": "code",
      "metadata": {
        "id": "LBpT6PBxsrP7",
        "colab_type": "code",
        "outputId": "7657c163-a1d1-47ba-924a-b8b06d730d37",
        "colab": {
          "base_uri": "https://localhost:8080/",
          "height": 54
        }
      },
      "source": [
        "movie_reviews.valid.x[100]"
      ],
      "execution_count": 6,
      "outputs": [
        {
          "output_type": "execute_result",
          "data": {
            "text/plain": [
              "Text xxbos xxmaj once again the same familiar story about a man ( writer here ) who sell his soul to the devil in order to have his most xxunk xxunk in life : success . xxmaj unfunny script ( we should \" go home and write better \" ) , ridiculous lines in order to understand the \" strong \" \" xxmaj xxunk \" message ( our only xxunk in life is to find love , respect and a good friendship ) and a very long trial scene at the end where the agent xxmaj hopkins beat the devil ( xxmaj xxunk xxmaj love xxmaj xxunk is no sexy or evil at all ) for all the bad things she made to this xxunk character . xxmaj not bad efforts from the actors ( xxmaj baldwin also as a director , xxmaj xxunk in a \" xxmaj sex and the xxmaj city \" role again , xxmaj xxunk with some funny lines in his limited role ) . xxup p.s. xxmaj try also a not so popular film from xxmaj xxunk called \" xxmaj xxunk xxunk xxunk \" , a brilliant adaptation of this xxunk ( an old man give his soul to the devil to get back his youth )"
            ]
          },
          "metadata": {
            "tags": []
          },
          "execution_count": 6
        }
      ]
    },
    {
      "cell_type": "code",
      "metadata": {
        "id": "EJ2CKQjSsuwN",
        "colab_type": "code",
        "outputId": "155d818a-f5e0-43e3-949b-3299df145922",
        "colab": {
          "base_uri": "https://localhost:8080/",
          "height": 34
        }
      },
      "source": [
        "movie_reviews.valid.y[100]"
      ],
      "execution_count": 7,
      "outputs": [
        {
          "output_type": "execute_result",
          "data": {
            "text/plain": [
              "Category negative"
            ]
          },
          "metadata": {
            "tags": []
          },
          "execution_count": 7
        }
      ]
    },
    {
      "cell_type": "code",
      "metadata": {
        "id": "IePDTKirs0qs",
        "colab_type": "code",
        "outputId": "455c2bf3-5e97-4161-97f7-f124e39b4696",
        "colab": {
          "base_uri": "https://localhost:8080/",
          "height": 34
        }
      },
      "source": [
        "len(movie_reviews.train.x), len(movie_reviews.valid.x)"
      ],
      "execution_count": 8,
      "outputs": [
        {
          "output_type": "execute_result",
          "data": {
            "text/plain": [
              "(800, 200)"
            ]
          },
          "metadata": {
            "tags": []
          },
          "execution_count": 8
        }
      ]
    },
    {
      "cell_type": "markdown",
      "metadata": {
        "id": "Vb1u7kfPtaKJ",
        "colab_type": "text"
      },
      "source": [
        "Notice how ints-to-string and string-to-ints have different lengths"
      ]
    },
    {
      "cell_type": "code",
      "metadata": {
        "id": "cHM6mjtntNbn",
        "colab_type": "code",
        "outputId": "846024f9-21f1-4215-f990-fef77ee4c38d",
        "colab": {
          "base_uri": "https://localhost:8080/",
          "height": 34
        }
      },
      "source": [
        "len(movie_reviews.vocab.itos), len(movie_reviews.vocab.stoi)"
      ],
      "execution_count": 9,
      "outputs": [
        {
          "output_type": "execute_result",
          "data": {
            "text/plain": [
              "(6008, 19161)"
            ]
          },
          "metadata": {
            "tags": []
          },
          "execution_count": 9
        }
      ]
    },
    {
      "cell_type": "code",
      "metadata": {
        "id": "GyPUiLuAtdfz",
        "colab_type": "code",
        "outputId": "baee254c-e60b-4987-dafd-c9dc432a063e",
        "colab": {
          "base_uri": "https://localhost:8080/",
          "height": 34
        }
      },
      "source": [
        "movie_reviews.vocab.stoi['funny']"
      ],
      "execution_count": 10,
      "outputs": [
        {
          "output_type": "execute_result",
          "data": {
            "text/plain": [
              "189"
            ]
          },
          "metadata": {
            "tags": []
          },
          "execution_count": 10
        }
      ]
    },
    {
      "cell_type": "code",
      "metadata": {
        "id": "pMNYFMb8treW",
        "colab_type": "code",
        "outputId": "f5fd2f02-29e7-40c5-e855-45b51d23edfd",
        "colab": {
          "base_uri": "https://localhost:8080/",
          "height": 34
        }
      },
      "source": [
        "movie_reviews.vocab.itos[189]"
      ],
      "execution_count": 11,
      "outputs": [
        {
          "output_type": "execute_result",
          "data": {
            "text/plain": [
              "'funny'"
            ]
          },
          "metadata": {
            "tags": []
          },
          "execution_count": 11
        }
      ]
    },
    {
      "cell_type": "markdown",
      "metadata": {
        "id": "D43rYNQlt2vm",
        "colab_type": "text"
      },
      "source": [
        "In case we type a word which doesn't appear on the text, we'll have the following."
      ]
    },
    {
      "cell_type": "code",
      "metadata": {
        "id": "0pJEWb_6ttlS",
        "colab_type": "code",
        "outputId": "02031474-2c03-4370-cda9-33a6b94452bd",
        "colab": {
          "base_uri": "https://localhost:8080/",
          "height": 34
        }
      },
      "source": [
        "movie_reviews.vocab.itos[movie_reviews.vocab.stoi['hola']]"
      ],
      "execution_count": 12,
      "outputs": [
        {
          "output_type": "execute_result",
          "data": {
            "text/plain": [
              "'xxunk'"
            ]
          },
          "metadata": {
            "tags": []
          },
          "execution_count": 12
        }
      ]
    },
    {
      "cell_type": "code",
      "metadata": {
        "id": "XVXRYmgauCU0",
        "colab_type": "code",
        "outputId": "c333b9db-846d-4cfd-9893-adaf098c9480",
        "colab": {
          "base_uri": "https://localhost:8080/",
          "height": 71
        }
      },
      "source": [
        "t = movie_reviews.train[0][0]\n",
        "t.data[:30]"
      ],
      "execution_count": 13,
      "outputs": [
        {
          "output_type": "execute_result",
          "data": {
            "text/plain": [
              "array([   2,    5, 4619,   25,    0,   25,  867,   52,    5, 3776,    5, 1800,   95,   37,   85,  191,   64,  935,\n",
              "          0, 2738,  517,   18,   21,   11,   84, 2417,  192,   88, 3777,   64])"
            ]
          },
          "metadata": {
            "tags": []
          },
          "execution_count": 13
        }
      ]
    },
    {
      "cell_type": "markdown",
      "metadata": {
        "id": "lBCDzQhp4mmn",
        "colab_type": "text"
      },
      "source": [
        "## **Our version of CountVectorizer**"
      ]
    },
    {
      "cell_type": "code",
      "metadata": {
        "id": "H8A8Mpl04bC-",
        "colab_type": "code",
        "colab": {
          "base_uri": "https://localhost:8080/",
          "height": 0
        },
        "outputId": "2f1fbdd1-4f54-44d1-ad2d-e619df73f64e"
      },
      "source": [
        "Counter((movie_reviews.valid.x)[0].data)"
      ],
      "execution_count": 14,
      "outputs": [
        {
          "output_type": "execute_result",
          "data": {
            "text/plain": [
              "Counter({0: 32,\n",
              "         2: 1,\n",
              "         5: 32,\n",
              "         6: 1,\n",
              "         9: 10,\n",
              "         10: 7,\n",
              "         11: 10,\n",
              "         12: 1,\n",
              "         13: 4,\n",
              "         14: 6,\n",
              "         15: 6,\n",
              "         16: 4,\n",
              "         18: 2,\n",
              "         20: 1,\n",
              "         21: 3,\n",
              "         23: 1,\n",
              "         24: 3,\n",
              "         25: 2,\n",
              "         26: 1,\n",
              "         27: 3,\n",
              "         30: 1,\n",
              "         44: 1,\n",
              "         45: 1,\n",
              "         49: 1,\n",
              "         50: 3,\n",
              "         52: 1,\n",
              "         54: 2,\n",
              "         58: 1,\n",
              "         59: 1,\n",
              "         63: 2,\n",
              "         71: 1,\n",
              "         74: 1,\n",
              "         77: 1,\n",
              "         84: 1,\n",
              "         109: 1,\n",
              "         115: 1,\n",
              "         149: 1,\n",
              "         189: 1,\n",
              "         194: 1,\n",
              "         197: 2,\n",
              "         204: 1,\n",
              "         207: 1,\n",
              "         221: 1,\n",
              "         239: 1,\n",
              "         251: 1,\n",
              "         258: 1,\n",
              "         285: 1,\n",
              "         288: 1,\n",
              "         319: 1,\n",
              "         324: 1,\n",
              "         337: 1,\n",
              "         358: 1,\n",
              "         378: 1,\n",
              "         404: 1,\n",
              "         409: 1,\n",
              "         430: 1,\n",
              "         456: 1,\n",
              "         478: 1,\n",
              "         541: 1,\n",
              "         571: 1,\n",
              "         579: 1,\n",
              "         594: 1,\n",
              "         605: 1,\n",
              "         608: 1,\n",
              "         666: 2,\n",
              "         710: 1,\n",
              "         736: 1,\n",
              "         748: 1,\n",
              "         850: 1,\n",
              "         966: 1,\n",
              "         1057: 1,\n",
              "         1107: 1,\n",
              "         1331: 1,\n",
              "         1335: 1,\n",
              "         1346: 1,\n",
              "         1833: 1,\n",
              "         1843: 1,\n",
              "         1902: 1,\n",
              "         2110: 1,\n",
              "         2420: 1,\n",
              "         2595: 1,\n",
              "         2601: 1,\n",
              "         2705: 1,\n",
              "         2743: 1,\n",
              "         2764: 1,\n",
              "         2817: 1,\n",
              "         2875: 1,\n",
              "         3429: 1,\n",
              "         3480: 1,\n",
              "         3963: 1,\n",
              "         4051: 1,\n",
              "         4126: 1,\n",
              "         4736: 1,\n",
              "         5035: 1,\n",
              "         5821: 1})"
            ]
          },
          "metadata": {
            "tags": []
          },
          "execution_count": 14
        }
      ]
    },
    {
      "cell_type": "code",
      "metadata": {
        "colab_type": "code",
        "outputId": "3a680616-645b-4ee5-db83-599c4cc70d6e",
        "id": "B0sL3CmN5PuF",
        "colab": {
          "base_uri": "https://localhost:8080/",
          "height": 0
        }
      },
      "source": [
        "movie_reviews.vocab.itos[55]"
      ],
      "execution_count": 15,
      "outputs": [
        {
          "output_type": "execute_result",
          "data": {
            "text/plain": [
              "'there'"
            ]
          },
          "metadata": {
            "tags": []
          },
          "execution_count": 15
        }
      ]
    },
    {
      "cell_type": "code",
      "metadata": {
        "id": "ym6_s2OD5bKd",
        "colab_type": "code",
        "outputId": "fc641bf8-19a3-4b5b-eca6-f9432c37ad46",
        "colab": {
          "base_uri": "https://localhost:8080/",
          "height": 0
        }
      },
      "source": [
        "(movie_reviews.valid.x)[0]"
      ],
      "execution_count": 16,
      "outputs": [
        {
          "output_type": "execute_result",
          "data": {
            "text/plain": [
              "Text xxbos xxmaj this very funny xxmaj british comedy shows what might happen if a section of xxmaj london , in this case xxmaj xxunk , were to xxunk itself independent from the rest of the xxup uk and its laws , xxunk & post - war xxunk . xxmaj merry xxunk is what would happen . \n",
              " \n",
              "  xxmaj the explosion of a wartime bomb leads to the xxunk of ancient xxunk which show that xxmaj xxunk was xxunk to the xxmaj xxunk of xxmaj xxunk xxunk ago , a small historical xxunk long since forgotten . xxmaj to the new xxmaj xxunk , however , this is an unexpected opportunity to live as they please , free from any xxunk from xxmaj xxunk . \n",
              " \n",
              "  xxmaj stanley xxmaj xxunk is excellent as the minor city xxunk who suddenly finds himself leading one of the world 's xxunk xxunk . xxmaj xxunk xxmaj margaret xxmaj xxunk is a delight as the history professor who sides with xxmaj xxunk . xxmaj others in the stand - out cast include xxmaj xxunk xxmaj xxunk , xxmaj paul xxmaj xxunk , xxmaj xxunk xxmaj xxunk , xxmaj xxunk xxmaj xxunk & xxmaj sir xxmaj michael xxmaj xxunk . \n",
              " \n",
              "  xxmaj welcome to xxmaj xxunk !"
            ]
          },
          "metadata": {
            "tags": []
          },
          "execution_count": 16
        }
      ]
    },
    {
      "cell_type": "code",
      "metadata": {
        "id": "S7RF9pvx5iy1",
        "colab_type": "code",
        "colab": {}
      },
      "source": [
        "def get_term_doc_matrix(label_list, vocab_len):\n",
        "    j_indices = []\n",
        "    indptr = []\n",
        "    values = []\n",
        "    indptr.append(0)\n",
        "\n",
        "    for i, doc in enumerate(label_list):\n",
        "        feature_counter = Counter(doc.data)\n",
        "        j_indices.extend(feature_counter.keys())\n",
        "        values.extend(feature_counter.values())\n",
        "        indptr.append(len(j_indices))\n",
        "\n",
        "    return scipy.sparse.csr_matrix((values, j_indices, indptr),\n",
        "                                   shape=(len(indptr) - 1, vocab_len),\n",
        "                                   dtype=int)"
      ],
      "execution_count": 0,
      "outputs": []
    },
    {
      "cell_type": "code",
      "metadata": {
        "id": "mIfj-d0e5qEw",
        "colab_type": "code",
        "colab": {}
      },
      "source": [
        "val_term_doc = get_term_doc_matrix(movie_reviews.valid.x, len(movie_reviews.vocab.itos))"
      ],
      "execution_count": 0,
      "outputs": []
    },
    {
      "cell_type": "code",
      "metadata": {
        "id": "8mXbwcim5siM",
        "colab_type": "code",
        "colab": {}
      },
      "source": [
        "trn_term_doc = get_term_doc_matrix(movie_reviews.train.x, len(movie_reviews.vocab.itos))"
      ],
      "execution_count": 0,
      "outputs": []
    },
    {
      "cell_type": "markdown",
      "metadata": {
        "id": "2gccmKp-4KBH",
        "colab_type": "text"
      },
      "source": [
        "### **Counters**"
      ]
    },
    {
      "cell_type": "markdown",
      "metadata": {
        "id": "tMvAkx_C4dMn",
        "colab_type": "text"
      },
      "source": [
        "Here's a quick explanation of how counters work."
      ]
    },
    {
      "cell_type": "code",
      "metadata": {
        "id": "_LpRmIzq4Rj3",
        "colab_type": "code",
        "colab": {}
      },
      "source": [
        "c = Counter([0,1,1,0,5,8,8,8])"
      ],
      "execution_count": 0,
      "outputs": []
    },
    {
      "cell_type": "code",
      "metadata": {
        "id": "LvfIGKtPuNnp",
        "colab_type": "code",
        "outputId": "f6608512-bf14-4fc0-b3fc-696ec1f25aa3",
        "colab": {
          "base_uri": "https://localhost:8080/",
          "height": 0
        }
      },
      "source": [
        "c.values()"
      ],
      "execution_count": 21,
      "outputs": [
        {
          "output_type": "execute_result",
          "data": {
            "text/plain": [
              "dict_values([2, 2, 1, 3])"
            ]
          },
          "metadata": {
            "tags": []
          },
          "execution_count": 21
        }
      ]
    },
    {
      "cell_type": "code",
      "metadata": {
        "id": "oJs60gaH4Z3z",
        "colab_type": "code",
        "outputId": "77ad20d1-513e-4cc2-d453-89735fc7143a",
        "colab": {
          "base_uri": "https://localhost:8080/",
          "height": 0
        }
      },
      "source": [
        "c.keys()"
      ],
      "execution_count": 22,
      "outputs": [
        {
          "output_type": "execute_result",
          "data": {
            "text/plain": [
              "dict_keys([0, 1, 5, 8])"
            ]
          },
          "metadata": {
            "tags": []
          },
          "execution_count": 22
        }
      ]
    },
    {
      "cell_type": "markdown",
      "metadata": {
        "id": "Hqq9Gbt26Ah6",
        "colab_type": "text"
      },
      "source": [
        "## **More data exploration**"
      ]
    },
    {
      "cell_type": "code",
      "metadata": {
        "id": "29RV3iXv4wwQ",
        "colab_type": "code",
        "outputId": "a66cab34-5d4c-438b-f010-3768bd6c2824",
        "colab": {
          "base_uri": "https://localhost:8080/",
          "height": 34
        }
      },
      "source": [
        "movie_reviews.vocab.itos[4]"
      ],
      "execution_count": 23,
      "outputs": [
        {
          "output_type": "execute_result",
          "data": {
            "text/plain": [
              "'xxfld'"
            ]
          },
          "metadata": {
            "tags": []
          },
          "execution_count": 23
        }
      ]
    },
    {
      "cell_type": "code",
      "metadata": {
        "id": "6GIG3JmA5AYT",
        "colab_type": "code",
        "outputId": "7dcb03a1-3bf2-4782-8b8f-a4669a7db3b3",
        "colab": {
          "base_uri": "https://localhost:8080/",
          "height": 170
        }
      },
      "source": [
        "val_term_doc.todense()[:10,:10]"
      ],
      "execution_count": 24,
      "outputs": [
        {
          "output_type": "execute_result",
          "data": {
            "text/plain": [
              "matrix([[32,  0,  1,  0, ...,  1,  0,  0, 10],\n",
              "        [ 9,  0,  1,  0, ...,  1,  0,  0,  7],\n",
              "        [ 6,  0,  1,  0, ...,  0,  0,  0, 12],\n",
              "        [78,  0,  1,  0, ...,  0,  0,  0, 44],\n",
              "        ...,\n",
              "        [ 8,  0,  1,  0, ...,  0,  0,  0,  8],\n",
              "        [43,  0,  1,  0, ...,  8,  1,  0, 25],\n",
              "        [ 7,  0,  1,  0, ...,  1,  0,  0,  9],\n",
              "        [19,  0,  1,  0, ...,  2,  0,  0,  5]])"
            ]
          },
          "metadata": {
            "tags": []
          },
          "execution_count": 24
        }
      ]
    },
    {
      "cell_type": "code",
      "metadata": {
        "id": "_M8lAqgM6HBw",
        "colab_type": "code",
        "outputId": "29f4335b-9bf7-42af-a760-16a046d8bb4d",
        "colab": {
          "base_uri": "https://localhost:8080/",
          "height": 122
        }
      },
      "source": [
        "review = movie_reviews.valid.x[1]; review"
      ],
      "execution_count": 25,
      "outputs": [
        {
          "output_type": "execute_result",
          "data": {
            "text/plain": [
              "Text xxbos i saw this movie once as a kid on the late - late show and fell in love with it . \n",
              " \n",
              "  xxmaj it took 30 + years , but i recently did find it on xxup dvd - it was n't cheap , either - in a xxunk that xxunk in war movies . xxmaj we watched it last night for the first time . xxmaj the audio was good , however it was grainy and had the trailers between xxunk . xxmaj even so , it was better than i remembered it . i was also impressed at how true it was to the play . \n",
              " \n",
              "  xxmaj the xxunk is around here xxunk . xxmaj if you 're xxunk in finding it , fire me a xxunk and i 'll see if i can get you the xxunk . xxunk"
            ]
          },
          "metadata": {
            "tags": []
          },
          "execution_count": 25
        }
      ]
    },
    {
      "cell_type": "markdown",
      "metadata": {
        "id": "P8nbKgOx6ebf",
        "colab_type": "text"
      },
      "source": [
        "## **Naive Bayes**"
      ]
    },
    {
      "cell_type": "code",
      "metadata": {
        "id": "u4wiPV7H6MhX",
        "colab_type": "code",
        "colab": {
          "base_uri": "https://localhost:8080/",
          "height": 34
        },
        "outputId": "c006e680-92d6-4661-c76f-16cba835a301"
      },
      "source": [
        "movie_reviews.y.classes"
      ],
      "execution_count": 26,
      "outputs": [
        {
          "output_type": "execute_result",
          "data": {
            "text/plain": [
              "['negative', 'positive']"
            ]
          },
          "metadata": {
            "tags": []
          },
          "execution_count": 26
        }
      ]
    },
    {
      "cell_type": "code",
      "metadata": {
        "id": "kJnxa5KSfpNp",
        "colab_type": "code",
        "colab": {}
      },
      "source": [
        "x = trn_term_doc\n",
        "y = movie_reviews.train.y\n",
        "val_y = movie_reviews.valid.y"
      ],
      "execution_count": 0,
      "outputs": []
    },
    {
      "cell_type": "code",
      "metadata": {
        "id": "hlVSOvdIf9Bf",
        "colab_type": "code",
        "colab": {}
      },
      "source": [
        "positive = y.c2i['positive']\n",
        "negative = y.c2i['negative']"
      ],
      "execution_count": 0,
      "outputs": []
    },
    {
      "cell_type": "markdown",
      "metadata": {
        "id": "Vt1ojJ2XgOh6",
        "colab_type": "text"
      },
      "source": [
        "For each word, we are summing up how many positive and negative reviews it has."
      ]
    },
    {
      "cell_type": "code",
      "metadata": {
        "id": "FY-g2tM8gAYh",
        "colab_type": "code",
        "colab": {}
      },
      "source": [
        "p1 = np.squeeze(np.asarray(x[y.items==positive].sum(0)))\n",
        "p0 = np.squeeze(np.asarray(x[y.items==negative].sum(0)))"
      ],
      "execution_count": 0,
      "outputs": []
    },
    {
      "cell_type": "code",
      "metadata": {
        "id": "_EbDXJosgeYe",
        "colab_type": "code",
        "colab": {
          "base_uri": "https://localhost:8080/",
          "height": 34
        },
        "outputId": "bf9d3f0a-871d-4519-b237-90e7faba2d6d"
      },
      "source": [
        "p1[:5]"
      ],
      "execution_count": 30,
      "outputs": [
        {
          "output_type": "execute_result",
          "data": {
            "text/plain": [
              "array([6471,    0,  383,    0,    0], dtype=int64)"
            ]
          },
          "metadata": {
            "tags": []
          },
          "execution_count": 30
        }
      ]
    },
    {
      "cell_type": "code",
      "metadata": {
        "id": "cbsCyWLAgLJk",
        "colab_type": "code",
        "colab": {}
      },
      "source": [
        "v = movie_reviews.vocab"
      ],
      "execution_count": 0,
      "outputs": []
    },
    {
      "cell_type": "markdown",
      "metadata": {
        "id": "ME02bU5GgqOT",
        "colab_type": "text"
      },
      "source": [
        "**Exercise** Checking how many times the word 'hated' appears. Then checking which of those text are positive reviews. And finally printing one of these."
      ]
    },
    {
      "cell_type": "code",
      "metadata": {
        "id": "7XW7Hkvsgf8X",
        "colab_type": "code",
        "colab": {
          "base_uri": "https://localhost:8080/",
          "height": 34
        },
        "outputId": "f62fbe6e-ba14-4a60-a106-0b16fefa8e56"
      },
      "source": [
        "v.stoi['hated']"
      ],
      "execution_count": 32,
      "outputs": [
        {
          "output_type": "execute_result",
          "data": {
            "text/plain": [
              "1977"
            ]
          },
          "metadata": {
            "tags": []
          },
          "execution_count": 32
        }
      ]
    },
    {
      "cell_type": "code",
      "metadata": {
        "id": "NTMJDXj0gy86",
        "colab_type": "code",
        "colab": {
          "base_uri": "https://localhost:8080/",
          "height": 34
        },
        "outputId": "5dfffa10-4b76-410d-aebb-307dc87be523"
      },
      "source": [
        "a = np.argwhere((x[:,1977] > 0))[:,0]\n",
        "b = np.argwhere(y.items==positive)[:,0]\n",
        "set(a).intersection(set(b))"
      ],
      "execution_count": 33,
      "outputs": [
        {
          "output_type": "execute_result",
          "data": {
            "text/plain": [
              "{393, 612, 695}"
            ]
          },
          "metadata": {
            "tags": []
          },
          "execution_count": 33
        }
      ]
    },
    {
      "cell_type": "code",
      "metadata": {
        "id": "tGtNexSehysN",
        "colab_type": "code",
        "colab": {
          "base_uri": "https://localhost:8080/",
          "height": 54
        },
        "outputId": "42b37833-0630-4852-e9a8-86dc6af3ce5f"
      },
      "source": [
        "review = movie_reviews.train.x[695]\n",
        "review.text"
      ],
      "execution_count": 34,
      "outputs": [
        {
          "output_type": "execute_result",
          "data": {
            "text/plain": [
              "\"xxbos xxmaj xxunk , yeah this episode is extremely underrated . \\n \\n  xxmaj even though there is a xxup lot of bad writing and acting at parts . i think the good over wins the bad . \\n \\n  i love the xxunk parts and the big ' twist ' at the end . i absolutely love that scene when xxmaj michelle xxunk xxmaj tony . xxmaj it 's actually one of my favorite scenes of xxmaj season 1 . \\n \\n  xxmaj for some reason , people have always hated the xxmaj xxunk episodes , yet i have always liked them . xxmaj they 're not the best , in terms of writing . but the theme really does interest me , \\n \\n  i 'm gon na give it a xxup three star , but if the writing were a little more consistent i 'd give it xxup four .\""
            ]
          },
          "metadata": {
            "tags": []
          },
          "execution_count": 34
        }
      ]
    },
    {
      "cell_type": "markdown",
      "metadata": {
        "id": "cJBrS4oOisKg",
        "colab_type": "text"
      },
      "source": [
        "## **Applying Naive Bayes**\n"
      ]
    },
    {
      "cell_type": "code",
      "metadata": {
        "id": "rsAAj3lKh1Wa",
        "colab_type": "code",
        "colab": {}
      },
      "source": [
        "p1 = np.squeeze(np.asarray(x[y.items==positive].sum(0)))\n",
        "p0 = np.squeeze(np.asarray(x[y.items==negative].sum(0)))"
      ],
      "execution_count": 0,
      "outputs": []
    },
    {
      "cell_type": "code",
      "metadata": {
        "id": "Cr5cCGyxi2NM",
        "colab_type": "code",
        "colab": {}
      },
      "source": [
        "pr1 = (p1+1) / ((y.items==positive).sum() + 1)\n",
        "pr0 = (p0+1) / ((y.items==negative).sum() + 1)"
      ],
      "execution_count": 0,
      "outputs": []
    },
    {
      "cell_type": "code",
      "metadata": {
        "id": "J3WiHo8qi3ji",
        "colab_type": "code",
        "colab": {
          "base_uri": "https://localhost:8080/",
          "height": 54
        },
        "outputId": "1cdc8f05-a201-4a00-9e92-c2da31306b90"
      },
      "source": [
        "r = np.log(pr1/pr0)\n",
        "r"
      ],
      "execution_count": 37,
      "outputs": [
        {
          "output_type": "execute_result",
          "data": {
            "text/plain": [
              "array([-0.015487,  0.084839,  0.      ,  0.084839, ...,  1.471133, -1.301455, -1.301455, -1.301455])"
            ]
          },
          "metadata": {
            "tags": []
          },
          "execution_count": 37
        }
      ]
    },
    {
      "cell_type": "markdown",
      "metadata": {
        "id": "t7-UA0jJi_OT",
        "colab_type": "text"
      },
      "source": [
        "### **Words associated with pos/neg reviews**"
      ]
    },
    {
      "cell_type": "code",
      "metadata": {
        "id": "LvpCqPsci6NL",
        "colab_type": "code",
        "colab": {}
      },
      "source": [
        "biggest = np.argpartition(r, -10)[-10:]\n",
        "smallest = np.argpartition(r, 10)[:10]"
      ],
      "execution_count": 0,
      "outputs": []
    },
    {
      "cell_type": "code",
      "metadata": {
        "id": "Sl3-QoqtjIRu",
        "colab_type": "code",
        "colab": {
          "base_uri": "https://localhost:8080/",
          "height": 187
        },
        "outputId": "99023c76-7b82-4176-cc4d-70ebe4cfd593"
      },
      "source": [
        "# Most positive words\n",
        "[v.itos[k] for k in biggest]"
      ],
      "execution_count": 39,
      "outputs": [
        {
          "output_type": "execute_result",
          "data": {
            "text/plain": [
              "['sport',\n",
              " 'davies',\n",
              " 'gilliam',\n",
              " 'fanfan',\n",
              " 'biko',\n",
              " 'felix',\n",
              " 'noir',\n",
              " 'jabba',\n",
              " 'astaire',\n",
              " 'jimmy']"
            ]
          },
          "metadata": {
            "tags": []
          },
          "execution_count": 39
        }
      ]
    },
    {
      "cell_type": "code",
      "metadata": {
        "id": "Elta45HUjInV",
        "colab_type": "code",
        "colab": {
          "base_uri": "https://localhost:8080/",
          "height": 187
        },
        "outputId": "12dda41b-5d95-4dd2-f47b-95099f309ebe"
      },
      "source": [
        "# Most negative words\n",
        "[v.itos[k] for k in smallest]"
      ],
      "execution_count": 40,
      "outputs": [
        {
          "output_type": "execute_result",
          "data": {
            "text/plain": [
              "['worst',\n",
              " 'crap',\n",
              " 'crater',\n",
              " 'porn',\n",
              " 'disappointment',\n",
              " 'dog',\n",
              " 'vargas',\n",
              " 'naschy',\n",
              " 'fuqua',\n",
              " 'soderbergh']"
            ]
          },
          "metadata": {
            "tags": []
          },
          "execution_count": 40
        }
      ]
    },
    {
      "cell_type": "code",
      "metadata": {
        "id": "w_j0ZAN4jcoL",
        "colab_type": "code",
        "colab": {
          "base_uri": "https://localhost:8080/",
          "height": 34
        },
        "outputId": "9b1bd99f-cf43-481a-b169-0e2a3cd19da2"
      },
      "source": [
        "np.argmax(trn_term_doc[:,v.stoi['davies']])"
      ],
      "execution_count": 42,
      "outputs": [
        {
          "output_type": "execute_result",
          "data": {
            "text/plain": [
              "292"
            ]
          },
          "metadata": {
            "tags": []
          },
          "execution_count": 42
        }
      ]
    },
    {
      "cell_type": "code",
      "metadata": {
        "id": "gcpxHAkujpLt",
        "colab_type": "code",
        "colab": {
          "base_uri": "https://localhost:8080/",
          "height": 292
        },
        "outputId": "855b5506-9555-4976-871a-f83145cd1678"
      },
      "source": [
        "movie_reviews.train.x[515]"
      ],
      "execution_count": 43,
      "outputs": [
        {
          "output_type": "execute_result",
          "data": {
            "text/plain": [
              "Text xxbos \" xxmaj the xxmaj true xxmaj story xxmaj of xxmaj the xxmaj friendship xxmaj that xxmaj shook xxmaj south xxmaj africa xxmaj and xxmaj xxunk xxmaj the xxmaj world . \" \n",
              " \n",
              "  xxmaj richard xxmaj attenborough , who directed \" a xxmaj bridge xxmaj too xxmaj far \" and \" xxmaj gandhi \" , wanted to bring the story of xxmaj steve xxmaj biko to life , and the journey and trouble that xxunk xxmaj donald xxmaj woods went through in order to get his story told . xxmaj the films uses xxmaj wood 's two books for it 's information and basis - \" xxmaj biko \" and \" xxmaj asking for xxmaj trouble \" . \n",
              " \n",
              "  xxmaj the film takes place in the late 1970 's , in xxmaj south xxmaj africa . xxmaj south xxmaj africa is in the grip of the terrible apartheid , which keeps the blacks separated from the whites and xxunk the whites as the superior race . xxmaj the blacks are forced to live in xxunk on the xxunk of the cities and xxunk , and they come under frequent xxunk by the police and the army . xxmaj we are shown a dawn xxunk on a xxunk , as xxunk and armed police force their way through the camp beating and even killing the inhabitants . xxmaj then we are introduced to xxmaj donald xxmaj woods ( xxmaj kevin xxmaj kline ) , who is the editor of a popular newspaper . xxmaj after xxunk a negative story about black xxunk xxmaj steve xxmaj biko ( xxmaj denzel xxmaj washington ) , xxmaj woods goes to meet with him . xxmaj the two are xxunk of each other at first , but they soon become good friends and xxmaj biko shows the horrors of the apartheid system from a black persons point of view to xxmaj woods . xxmaj this xxunk xxmaj woods to speak out against what 's happening around him , and makes him desperate to bring xxmaj steve xxmaj biko 's story out of the xxunk of the white man 's xxmaj south xxmaj africa and to the world . xxmaj soon , xxmaj steve xxmaj biko is arrested and is killed in prison . xxmaj now xxmaj woods and his family are daring to escape from xxmaj south xxmaj africa to xxmaj england , where xxmaj woods can xxunk his book about xxmaj steve xxmaj biko and the apartheid . \n",
              " \n",
              "  xxmaj when i first heard of \" xxmaj cry xxmaj freedom \" , i was under the impression that it was a movie completely dedicated to the life of xxmaj steve xxmaj biko . i had never actually heard of xxmaj steve xxmaj biko before i seen this film , as the events in this film were really before my time . xxmaj but it 's more about the story of xxmaj donald xxmaj woods and his journey across the border into xxmaj xxunk as he tried to xxunk the xxmaj south xxmaj african xxunk . xxmaj woods was put on a five year type house xxunk after xxmaj steve xxmaj biko was killed . xxmaj so in order to xxunk his xxunk on xxmaj steve xxmaj biko , he had to escape . xxmaj because the xxunk would be considered xxunk in xxmaj south xxmaj africa and that could have resulted in xxmaj woods meeting a fate similar to that of xxmaj biko 's . xxmaj the real xxmaj donald xxmaj woods and his wife acted as xxunk to this film . \n",
              " \n",
              "  xxmaj denzel xxmaj washington is only in the film for the first hour , and i was disappointed with that as i was expecting to see him for the entire movie . xxmaj but he was amazing as xxmaj steve xxmaj biko , and captured his personality from what i 've read really well and his accent sounded perfect . xxmaj his performance earned him an xxmaj oscar nomination for xxmaj best xxmaj supporting xxmaj actor . xxmaj kevin xxmaj kline delivers a excellent and thought - xxunk performance as xxmaj donald xxmaj woods , and xxmaj penelope xxmaj xxunk is excellent as his wife xxmaj xxunk . \n",
              " \n",
              "  xxmaj filming took place in xxmaj xxunk , as needless to say problems xxunk when they tried to film it in xxmaj south xxmaj africa . xxmaj while in xxmaj south xxmaj africa , the xxmaj south xxmaj african xxunk followed the film crew everywhere , so they got the bad xxunk and they pulled out and went to xxunk xxmaj xxunk instead . xxmaj despite everything , and the fact that the apartheid did n't end ' xxunk seven years later , \" xxmaj cry xxmaj freedom \" was n't xxunk in xxmaj south xxmaj africa . xxmaj but xxunk showing the movie received bomb threats . \n",
              " \n",
              "  xxmaj richard xxmaj attenborough brings the horrors of the apartheid to the screen with extreme force and determination . xxmaj he does n't hold back at the end of the movie when showing what was supposed to be a xxunk xxunk by students in a xxunk , turns into a massacre when police open fire on them . xxmaj the film ends with the names of all the anti - apartheid xxunk who died in prison , and the explanations for their deaths . xxmaj many had \" xxmaj no xxmaj explanation \" . xxmaj quite a few were \" xxmaj xxunk \" , which is hard to believe , and many more either fell from the top of the xxunk or were \" xxmaj suicide from xxmaj hanging \" . xxmaj no one will ever know what really happened to them , but i think it 's fair to say that none of these men died at their own hands , but at the hands of others ; or to be more xxunk , at the hands of the police . \n",
              " \n",
              "  \" xxmaj cry xxmaj freedom \" is a must - see movie for it 's portrayal and story of xxmaj steve xxmaj biko . xxmaj it 's also a xxunk and xxunk portrayal of a beautiful land divided and in the xxunk grips of racial xxunk and violence ."
            ]
          },
          "metadata": {
            "tags": []
          },
          "execution_count": 43
        }
      ]
    },
    {
      "cell_type": "markdown",
      "metadata": {
        "id": "tHccroslkASe",
        "colab_type": "text"
      },
      "source": [
        "### **More Naive Bayes**"
      ]
    },
    {
      "cell_type": "code",
      "metadata": {
        "id": "GgYB4yJYjrV9",
        "colab_type": "code",
        "colab": {
          "base_uri": "https://localhost:8080/",
          "height": 34
        },
        "outputId": "3e868190-ea69-44bc-ba7d-39f75bf95e2e"
      },
      "source": [
        "(y.items==positive).mean(), (y.items==negative).mean()"
      ],
      "execution_count": 44,
      "outputs": [
        {
          "output_type": "execute_result",
          "data": {
            "text/plain": [
              "(0.47875, 0.52125)"
            ]
          },
          "metadata": {
            "tags": []
          },
          "execution_count": 44
        }
      ]
    },
    {
      "cell_type": "code",
      "metadata": {
        "id": "phXn43UgkZ5R",
        "colab_type": "code",
        "colab": {}
      },
      "source": [
        "b = np.log((y.items==positive).mean() / (y.items==negative).mean())"
      ],
      "execution_count": 0,
      "outputs": []
    },
    {
      "cell_type": "code",
      "metadata": {
        "id": "-9D4w8VNkcgs",
        "colab_type": "code",
        "colab": {
          "base_uri": "https://localhost:8080/",
          "height": 34
        },
        "outputId": "be318539-2563-4bbf-d900-f7cecb4c3fc9"
      },
      "source": [
        "preds = (val_term_doc @ r + b) > 0\n",
        "(preds == val_y.items).mean()"
      ],
      "execution_count": 46,
      "outputs": [
        {
          "output_type": "execute_result",
          "data": {
            "text/plain": [
              "0.645"
            ]
          },
          "metadata": {
            "tags": []
          },
          "execution_count": 46
        }
      ]
    }
  ]
}