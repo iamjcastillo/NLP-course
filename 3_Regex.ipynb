{
  "nbformat": 4,
  "nbformat_minor": 0,
  "metadata": {
    "colab": {
      "name": "3_Regex.ipynb",
      "version": "0.3.2",
      "provenance": [],
      "collapsed_sections": []
    },
    "kernelspec": {
      "name": "python3",
      "display_name": "Python 3"
    }
  },
  "cells": [
    {
      "cell_type": "markdown",
      "metadata": {
        "id": "DWk0jKShl6UP",
        "colab_type": "text"
      },
      "source": [
        "# **Regex**"
      ]
    },
    {
      "cell_type": "markdown",
      "metadata": {
        "id": "wN1Ic3k0rY7J",
        "colab_type": "text"
      },
      "source": [
        "**Regular expressions** is a pattern matching language.\n",
        "\n",
        "Instead of writing 0 1 2 3 4 5 6 7 8 9, you can write [0-9] or \\d\n",
        "\n",
        "It is Domain Specific Language (DSL). Powerful (but limited language)."
      ]
    },
    {
      "cell_type": "markdown",
      "metadata": {
        "id": "SeiWuq4NsCfi",
        "colab_type": "text"
      },
      "source": [
        "## **Revisiting tokienization**"
      ]
    },
    {
      "cell_type": "markdown",
      "metadata": {
        "id": "YcRgt4UmsNeq",
        "colab_type": "text"
      },
      "source": [
        "In this case, we'll use Regex to create our own tokens."
      ]
    },
    {
      "cell_type": "code",
      "metadata": {
        "id": "FsSNQf5Glosy",
        "colab_type": "code",
        "colab": {}
      },
      "source": [
        "import re"
      ],
      "execution_count": 0,
      "outputs": []
    },
    {
      "cell_type": "code",
      "metadata": {
        "id": "Y8oTbb1tr8qM",
        "colab_type": "code",
        "colab": {}
      },
      "source": [
        "re_punc = re.compile(\"([\\\"\\''().,;:/_?!—\\-])\") # add spaces around punctuation\n",
        "re_apos = re.compile(r\"n ' t \")    # n't\n",
        "re_bpos = re.compile(r\" ' s \")     # 's\n",
        "re_mult_space = re.compile(r\"  *\") # replace multiple spaces with just one"
      ],
      "execution_count": 0,
      "outputs": []
    },
    {
      "cell_type": "code",
      "metadata": {
        "id": "EBdZm6x3sf2x",
        "colab_type": "code",
        "colab": {}
      },
      "source": [
        "def simple_toks(sent):\n",
        "    sent = re_punc.sub(r\" \\1 \", sent)\n",
        "    sent = re_apos.sub(r\" n't \", sent)\n",
        "    sent = re_bpos.sub(r\" 's \", sent)\n",
        "    sent = re_mult_space.sub(' ', sent)\n",
        "    return sent.lower().split()"
      ],
      "execution_count": 0,
      "outputs": []
    },
    {
      "cell_type": "code",
      "metadata": {
        "id": "fAXXyd6NshpE",
        "colab_type": "code",
        "colab": {
          "base_uri": "https://localhost:8080/",
          "height": 34
        },
        "outputId": "7fbe786a-e6b8-4f39-8f68-9223f78cbaf6"
      },
      "source": [
        "text = \"I don't know what to write here (this is just an example) \"\n",
        "text"
      ],
      "execution_count": 6,
      "outputs": [
        {
          "output_type": "execute_result",
          "data": {
            "text/plain": [
              "\"I don't know what to write here (this is just an example) \""
            ]
          },
          "metadata": {
            "tags": []
          },
          "execution_count": 6
        }
      ]
    },
    {
      "cell_type": "code",
      "metadata": {
        "id": "YRoW6E8-tPzs",
        "colab_type": "code",
        "colab": {
          "base_uri": "https://localhost:8080/",
          "height": 34
        },
        "outputId": "40bce5ff-78db-44b3-ab2a-d6725a5ad546"
      },
      "source": [
        "text2 = re_punc.sub(r\" \\1 \",text)\n",
        "text2"
      ],
      "execution_count": 7,
      "outputs": [
        {
          "output_type": "execute_result",
          "data": {
            "text/plain": [
              "\"I don ' t know what to write here  ( this is just an example )  \""
            ]
          },
          "metadata": {
            "tags": []
          },
          "execution_count": 7
        }
      ]
    },
    {
      "cell_type": "code",
      "metadata": {
        "id": "IRZ5hqQAtbk9",
        "colab_type": "code",
        "colab": {
          "base_uri": "https://localhost:8080/",
          "height": 34
        },
        "outputId": "517cad9f-f3ac-4395-cf23-661127fa3a12"
      },
      "source": [
        "text3 = re_apos.sub(r\" n't \", text2)\n",
        "text3"
      ],
      "execution_count": 8,
      "outputs": [
        {
          "output_type": "execute_result",
          "data": {
            "text/plain": [
              "\"I do n't know what to write here  ( this is just an example )  \""
            ]
          },
          "metadata": {
            "tags": []
          },
          "execution_count": 8
        }
      ]
    },
    {
      "cell_type": "code",
      "metadata": {
        "id": "LQ61DqbDtggT",
        "colab_type": "code",
        "colab": {
          "base_uri": "https://localhost:8080/",
          "height": 34
        },
        "outputId": "e111260a-d99a-43aa-909e-807343d31e2e"
      },
      "source": [
        "text4 = re_bpos.sub(r\" 's \", text3)\n",
        "text4"
      ],
      "execution_count": 10,
      "outputs": [
        {
          "output_type": "execute_result",
          "data": {
            "text/plain": [
              "\"I do n't know what to write here  ( this is just an example )  \""
            ]
          },
          "metadata": {
            "tags": []
          },
          "execution_count": 10
        }
      ]
    },
    {
      "cell_type": "code",
      "metadata": {
        "id": "R3E3xGbrt-vE",
        "colab_type": "code",
        "colab": {}
      },
      "source": [
        "sentences = ['All this happened, more or less.',\n",
        "             'The war parts, anyway, are pretty much true.',\n",
        "             \"One guy I knew really was shot for taking a teapot that wasn't his.\",\n",
        "             'Another guy I knew really did threaten to have his personal enemies killed by hired gunmen after the war.',\n",
        "             'And so on.',\n",
        "             \"I've changed all their names.\"]"
      ],
      "execution_count": 0,
      "outputs": []
    },
    {
      "cell_type": "code",
      "metadata": {
        "id": "_oGNEE1TtjPB",
        "colab_type": "code",
        "colab": {
          "base_uri": "https://localhost:8080/",
          "height": 867
        },
        "outputId": "75f452fd-6dab-4a39-be17-fc4f6074b1d1"
      },
      "source": [
        "tokens = list(map(simple_toks, sentences))\n",
        "tokens"
      ],
      "execution_count": 13,
      "outputs": [
        {
          "output_type": "execute_result",
          "data": {
            "text/plain": [
              "[['all', 'this', 'happened', ',', 'more', 'or', 'less', '.'],\n",
              " ['the',\n",
              "  'war',\n",
              "  'parts',\n",
              "  ',',\n",
              "  'anyway',\n",
              "  ',',\n",
              "  'are',\n",
              "  'pretty',\n",
              "  'much',\n",
              "  'true',\n",
              "  '.'],\n",
              " ['one',\n",
              "  'guy',\n",
              "  'i',\n",
              "  'knew',\n",
              "  'really',\n",
              "  'was',\n",
              "  'shot',\n",
              "  'for',\n",
              "  'taking',\n",
              "  'a',\n",
              "  'teapot',\n",
              "  'that',\n",
              "  'was',\n",
              "  \"n't\",\n",
              "  'his',\n",
              "  '.'],\n",
              " ['another',\n",
              "  'guy',\n",
              "  'i',\n",
              "  'knew',\n",
              "  'really',\n",
              "  'did',\n",
              "  'threaten',\n",
              "  'to',\n",
              "  'have',\n",
              "  'his',\n",
              "  'personal',\n",
              "  'enemies',\n",
              "  'killed',\n",
              "  'by',\n",
              "  'hired',\n",
              "  'gunmen',\n",
              "  'after',\n",
              "  'the',\n",
              "  'war',\n",
              "  '.'],\n",
              " ['and', 'so', 'on', '.'],\n",
              " ['i', \"'\", 've', 'changed', 'all', 'their', 'names', '.']]"
            ]
          },
          "metadata": {
            "tags": []
          },
          "execution_count": 13
        }
      ]
    },
    {
      "cell_type": "markdown",
      "metadata": {
        "id": "u9sUJ2EkuJBN",
        "colab_type": "text"
      },
      "source": [
        "Now that we have our tokens, it's time to convert them to integer ids."
      ]
    },
    {
      "cell_type": "code",
      "metadata": {
        "id": "NWwr7m9Ct1ql",
        "colab_type": "code",
        "colab": {}
      },
      "source": [
        "import collections"
      ],
      "execution_count": 0,
      "outputs": []
    },
    {
      "cell_type": "code",
      "metadata": {
        "id": "mDSFInMXuPWv",
        "colab_type": "code",
        "colab": {}
      },
      "source": [
        "PAD = 0; SOS = 1\n",
        "\n",
        "def toks2ids(sentences):\n",
        "    voc_cnt = collections.Counter(t for sent in sentences for t in sent)\n",
        "    vocab = sorted(voc_cnt, key=voc_cnt.get, reverse=True)\n",
        "    vocab.insert(PAD, \"<PAD>\")\n",
        "    vocab.insert(SOS, \"<SOS>\")\n",
        "    w2id = {w:i for i,w in enumerate(vocab)}\n",
        "    ids = [[w2id[t] for t in sent] for sent in sentences]\n",
        "    return ids, vocab, w2id, voc_cnt"
      ],
      "execution_count": 0,
      "outputs": []
    },
    {
      "cell_type": "code",
      "metadata": {
        "id": "1jqMZ-r6uRDp",
        "colab_type": "code",
        "colab": {}
      },
      "source": [
        "ids, vocab, w2id, voc_cnt = toks2ids(tokens)"
      ],
      "execution_count": 0,
      "outputs": []
    },
    {
      "cell_type": "code",
      "metadata": {
        "id": "hJ-LpOzUudSs",
        "colab_type": "code",
        "colab": {
          "base_uri": "https://localhost:8080/",
          "height": 34
        },
        "outputId": "7c78e06e-6afd-4f47-9cc2-dd036f89c8ab"
      },
      "source": [
        "ids[0] #first sentence"
      ],
      "execution_count": 19,
      "outputs": [
        {
          "output_type": "execute_result",
          "data": {
            "text/plain": [
              "[5, 13, 14, 3, 15, 16, 17, 2]"
            ]
          },
          "metadata": {
            "tags": []
          },
          "execution_count": 19
        }
      ]
    },
    {
      "cell_type": "code",
      "metadata": {
        "id": "vz7wufmxufUd",
        "colab_type": "code",
        "colab": {
          "base_uri": "https://localhost:8080/",
          "height": 34
        },
        "outputId": "d78d06d7-eed4-4e25-b3ce-fa73bebc20c9"
      },
      "source": [
        "vocab[:10] # some words"
      ],
      "execution_count": 21,
      "outputs": [
        {
          "output_type": "execute_result",
          "data": {
            "text/plain": [
              "['<PAD>', '<SOS>', '.', ',', 'i', 'all', 'the', 'war', 'guy', 'knew']"
            ]
          },
          "metadata": {
            "tags": []
          },
          "execution_count": 21
        }
      ]
    },
    {
      "cell_type": "code",
      "metadata": {
        "id": "aCnrpIS9ur_S",
        "colab_type": "code",
        "colab": {
          "base_uri": "https://localhost:8080/",
          "height": 901
        },
        "outputId": "7acd0267-74ee-405b-9ece-89c03925c5f9"
      },
      "source": [
        "w2id"
      ],
      "execution_count": 24,
      "outputs": [
        {
          "output_type": "execute_result",
          "data": {
            "text/plain": [
              "{\"'\": 47,\n",
              " ',': 3,\n",
              " '.': 2,\n",
              " '<PAD>': 0,\n",
              " '<SOS>': 1,\n",
              " 'a': 28,\n",
              " 'after': 43,\n",
              " 'all': 5,\n",
              " 'and': 44,\n",
              " 'another': 32,\n",
              " 'anyway': 19,\n",
              " 'are': 20,\n",
              " 'by': 40,\n",
              " 'changed': 49,\n",
              " 'did': 33,\n",
              " 'enemies': 38,\n",
              " 'for': 26,\n",
              " 'gunmen': 42,\n",
              " 'guy': 8,\n",
              " 'happened': 14,\n",
              " 'have': 36,\n",
              " 'hired': 41,\n",
              " 'his': 12,\n",
              " 'i': 4,\n",
              " 'killed': 39,\n",
              " 'knew': 9,\n",
              " 'less': 17,\n",
              " 'more': 15,\n",
              " 'much': 22,\n",
              " \"n't\": 31,\n",
              " 'names': 51,\n",
              " 'on': 46,\n",
              " 'one': 24,\n",
              " 'or': 16,\n",
              " 'parts': 18,\n",
              " 'personal': 37,\n",
              " 'pretty': 21,\n",
              " 'really': 10,\n",
              " 'shot': 25,\n",
              " 'so': 45,\n",
              " 'taking': 27,\n",
              " 'teapot': 29,\n",
              " 'that': 30,\n",
              " 'the': 6,\n",
              " 'their': 50,\n",
              " 'this': 13,\n",
              " 'threaten': 34,\n",
              " 'to': 35,\n",
              " 'true': 23,\n",
              " 've': 48,\n",
              " 'war': 7,\n",
              " 'was': 11}"
            ]
          },
          "metadata": {
            "tags": []
          },
          "execution_count": 24
        }
      ]
    },
    {
      "cell_type": "markdown",
      "metadata": {
        "id": "nZSYop5NvP7m",
        "colab_type": "text"
      },
      "source": [
        "**RegEx** is mainly used for:\n",
        "* Find/search\n",
        "* Fin and replace\n",
        "* Clean\n",
        "\n",
        "\n",
        "Don't forget that **str** methods can be usefull too"
      ]
    },
    {
      "cell_type": "code",
      "metadata": {
        "id": "gcG0mXDgvAFl",
        "colab_type": "code",
        "colab": {}
      },
      "source": [
        "str.find?"
      ],
      "execution_count": 0,
      "outputs": []
    },
    {
      "cell_type": "markdown",
      "metadata": {
        "id": "JGxXkBGZv7cz",
        "colab_type": "text"
      },
      "source": [
        "Something interesting"
      ]
    },
    {
      "cell_type": "code",
      "metadata": {
        "id": "5Axl42AKvoaF",
        "colab_type": "code",
        "colab": {
          "base_uri": "https://localhost:8080/",
          "height": 34
        },
        "outputId": "65fc5ff8-4f9e-45bc-fa30-63a03befbfcb"
      },
      "source": [
        "message = \"😒🎦 🤢🍕\"\n",
        "\n",
        "re_frown = re.compile(r\"😒|🤢\")\n",
        "re_frown.sub(r\"😊\", message)"
      ],
      "execution_count": 26,
      "outputs": [
        {
          "output_type": "execute_result",
          "data": {
            "text/plain": [
              "'😊🎦 😊🍕'"
            ]
          },
          "metadata": {
            "tags": []
          },
          "execution_count": 26
        }
      ]
    },
    {
      "cell_type": "code",
      "metadata": {
        "id": "vGG0-wQPv039",
        "colab_type": "code",
        "colab": {}
      },
      "source": [
        ""
      ],
      "execution_count": 0,
      "outputs": []
    }
  ]
}