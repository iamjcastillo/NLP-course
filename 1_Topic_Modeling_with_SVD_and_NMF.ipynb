{
  "nbformat": 4,
  "nbformat_minor": 0,
  "metadata": {
    "colab": {
      "name": "1. Topic Modeling with SVD and NMF.ipynb",
      "version": "0.3.2",
      "provenance": [],
      "collapsed_sections": []
    },
    "kernelspec": {
      "name": "python3",
      "display_name": "Python 3"
    },
    "accelerator": "GPU"
  },
  "cells": [
    {
      "cell_type": "markdown",
      "metadata": {
        "id": "gxc5NopXa9vm",
        "colab_type": "text"
      },
      "source": [
        "# **Topic Modeling with NMF and SVD**"
      ]
    },
    {
      "cell_type": "markdown",
      "metadata": {
        "id": "LRBNNwOLbMjY",
        "colab_type": "text"
      },
      "source": [
        "## **Getting started**"
      ]
    },
    {
      "cell_type": "markdown",
      "metadata": {
        "id": "K6_Lui-3bPaX",
        "colab_type": "text"
      },
      "source": [
        "We'll take a dataset (which contains 18000 newsgroups posts with 20 topics) with several documents and find topic. For this, we'll use SVD and  NMF."
      ]
    },
    {
      "cell_type": "code",
      "metadata": {
        "id": "_us7aFZRa5pL",
        "colab_type": "code",
        "colab": {}
      },
      "source": [
        "import numpy as np\n",
        "from sklearn.datasets import fetch_20newsgroups\n",
        "from sklearn import decomposition\n",
        "from scipy import linalg\n",
        "import matplotlib.pyplot as plt"
      ],
      "execution_count": 0,
      "outputs": []
    },
    {
      "cell_type": "code",
      "metadata": {
        "id": "xs2ipMYBbtXJ",
        "colab_type": "code",
        "colab": {}
      },
      "source": [
        "np.set_printoptions(suppress=True)"
      ],
      "execution_count": 0,
      "outputs": []
    },
    {
      "cell_type": "markdown",
      "metadata": {
        "id": "Pa1OZHgycWFa",
        "colab_type": "text"
      },
      "source": [
        "## **Looking at the data**"
      ]
    },
    {
      "cell_type": "markdown",
      "metadata": {
        "id": "bSdl507SckPM",
        "colab_type": "text"
      },
      "source": [
        "Scikit Learn comes with a number of built-in datasets, as well as loading utilities to load several standard external datasets."
      ]
    },
    {
      "cell_type": "code",
      "metadata": {
        "id": "OI1zFcE9b6WS",
        "colab_type": "code",
        "colab": {
          "base_uri": "https://localhost:8080/",
          "height": 51
        },
        "outputId": "7c237744-84e7-4b7b-bc09-dcb1056b75ae"
      },
      "source": [
        "categories = ['alt.atheism', 'talk.religion.misc', 'comp.graphics', 'sci.space']\n",
        "remove = ('headers', 'footers', 'quotes')\n",
        "\n",
        "newsgroups_train = fetch_20newsgroups(subset='train', categories=categories, remove=remove)\n",
        "newsgroups_test = fetch_20newsgroups(subset='test', categories=categories, remove=remove)"
      ],
      "execution_count": 3,
      "outputs": [
        {
          "output_type": "stream",
          "text": [
            "Downloading 20news dataset. This may take a few minutes.\n",
            "Downloading dataset from https://ndownloader.figshare.com/files/5975967 (14 MB)\n"
          ],
          "name": "stderr"
        }
      ]
    },
    {
      "cell_type": "code",
      "metadata": {
        "id": "UjR76-mJdL4L",
        "colab_type": "code",
        "colab": {
          "base_uri": "https://localhost:8080/",
          "height": 34
        },
        "outputId": "dbaa9751-1197-4d73-99c1-d7346674b4d2"
      },
      "source": [
        "newsgroups_train.filenames.shape\n",
        "newsgroups_train.target.shape"
      ],
      "execution_count": 4,
      "outputs": [
        {
          "output_type": "execute_result",
          "data": {
            "text/plain": [
              "(2034,)"
            ]
          },
          "metadata": {
            "tags": []
          },
          "execution_count": 4
        }
      ]
    },
    {
      "cell_type": "markdown",
      "metadata": {
        "id": "snY53ksWdYNj",
        "colab_type": "text"
      },
      "source": [
        "We can look at some of the data."
      ]
    },
    {
      "cell_type": "code",
      "metadata": {
        "id": "bddGF2W2daeS",
        "colab_type": "code",
        "colab": {
          "base_uri": "https://localhost:8080/",
          "height": 544
        },
        "outputId": "91dc4c00-771f-476b-bef0-43a1cc52d72b"
      },
      "source": [
        "print(\"\\n\".join(newsgroups_train.data[3:4]))"
      ],
      "execution_count": 5,
      "outputs": [
        {
          "output_type": "stream",
          "text": [
            "I have a request for those who would like to see Charley Wingate\n",
            "respond to the \"Charley Challenges\" (and judging from my e-mail, there\n",
            "appear to be quite a few of you.)  \n",
            "\n",
            "It is clear that Mr. Wingate intends to continue to post tangential or\n",
            "unrelated articles while ingoring the Challenges themselves.  Between\n",
            "the last two re-postings of the Challenges, I noted perhaps a dozen or\n",
            "more posts by Mr. Wingate, none of which answered a single Challenge.  \n",
            "\n",
            "It seems unmistakable to me that Mr. Wingate hopes that the questions\n",
            "will just go away, and he is doing his level best to change the\n",
            "subject.  Given that this seems a rather common net.theist tactic, I\n",
            "would like to suggest that we impress upon him our desire for answers,\n",
            "in the following manner:\n",
            "\n",
            "1. Ignore any future articles by Mr. Wingate that do not address the\n",
            "Challenges, until he answers them or explictly announces that he\n",
            "refuses to do so.\n",
            "\n",
            "--or--\n",
            "\n",
            "2. If you must respond to one of his articles, include within it\n",
            "something similar to the following:\n",
            "\n",
            "    \"Please answer the questions posed to you in the Charley Challenges.\"\n",
            "\n",
            "Really, I'm not looking to humiliate anyone here, I just want some\n",
            "honest answers.  You wouldn't think that honesty would be too much to\n",
            "ask from a devout Christian, would you?  \n",
            "\n",
            "Nevermind, that was a rhetorical question.\n"
          ],
          "name": "stdout"
        }
      ]
    },
    {
      "cell_type": "markdown",
      "metadata": {
        "id": "L4L2xjaed8P0",
        "colab_type": "text"
      },
      "source": [
        "This way we can have an idea about the topics we might find later. We can check if any of the previous efined topics are in the extract we choose. "
      ]
    },
    {
      "cell_type": "code",
      "metadata": {
        "id": "tb59Uw6Udi4e",
        "colab_type": "code",
        "colab": {
          "base_uri": "https://localhost:8080/",
          "height": 34
        },
        "outputId": "874e3906-51b5-4c0d-d6be-3708f18ca408"
      },
      "source": [
        "np.array(newsgroups_train.target_names)[newsgroups_train.target[3:4]]"
      ],
      "execution_count": 6,
      "outputs": [
        {
          "output_type": "execute_result",
          "data": {
            "text/plain": [
              "array(['alt.atheism'], dtype='<U18')"
            ]
          },
          "metadata": {
            "tags": []
          },
          "execution_count": 6
        }
      ]
    },
    {
      "cell_type": "markdown",
      "metadata": {
        "id": "vz_LL9YWfJso",
        "colab_type": "text"
      },
      "source": [
        "## **Stop words, stemming and lemmatization**"
      ]
    },
    {
      "cell_type": "markdown",
      "metadata": {
        "id": "H3D-4OKUfPax",
        "colab_type": "text"
      },
      "source": [
        "### **Stop words**"
      ]
    },
    {
      "cell_type": "markdown",
      "metadata": {
        "id": "cYiF1mp-fSiS",
        "colab_type": "text"
      },
      "source": [
        "These are extremely common words whith amost no meaning or use for our purpose.\n",
        "\n",
        "We can check some of these ones using **NTLK**."
      ]
    },
    {
      "cell_type": "code",
      "metadata": {
        "id": "YIMbROTNfO3r",
        "colab_type": "code",
        "colab": {
          "base_uri": "https://localhost:8080/",
          "height": 272
        },
        "outputId": "f7a9cbea-a91b-4960-d295-8cfb2c00409c"
      },
      "source": [
        "from sklearn.feature_extraction import stop_words\n",
        "\n",
        "sorted(list(stop_words.ENGLISH_STOP_WORDS))[75:90]"
      ],
      "execution_count": 7,
      "outputs": [
        {
          "output_type": "execute_result",
          "data": {
            "text/plain": [
              "['eight',\n",
              " 'either',\n",
              " 'eleven',\n",
              " 'else',\n",
              " 'elsewhere',\n",
              " 'empty',\n",
              " 'enough',\n",
              " 'etc',\n",
              " 'even',\n",
              " 'ever',\n",
              " 'every',\n",
              " 'everyone',\n",
              " 'everything',\n",
              " 'everywhere',\n",
              " 'except']"
            ]
          },
          "metadata": {
            "tags": []
          },
          "execution_count": 7
        }
      ]
    },
    {
      "cell_type": "markdown",
      "metadata": {
        "id": "N_FwAs_XgLMz",
        "colab_type": "text"
      },
      "source": [
        "### **Stemming and Lemmatization**"
      ]
    },
    {
      "cell_type": "markdown",
      "metadata": {
        "id": "BrYDkTb5gQPC",
        "colab_type": "text"
      },
      "source": [
        "Both techniques generate the root form of the words. Lemmatization uses the rules about a language and Stemming just chops the end of the words."
      ]
    },
    {
      "cell_type": "code",
      "metadata": {
        "id": "RxrQGOetf8vN",
        "colab_type": "code",
        "colab": {
          "base_uri": "https://localhost:8080/",
          "height": 68
        },
        "outputId": "46d15125-25d7-4323-9d88-1cf1557e160e"
      },
      "source": [
        "import nltk\n",
        "nltk.download('wordnet')"
      ],
      "execution_count": 8,
      "outputs": [
        {
          "output_type": "stream",
          "text": [
            "[nltk_data] Downloading package wordnet to /root/nltk_data...\n",
            "[nltk_data]   Unzipping corpora/wordnet.zip.\n"
          ],
          "name": "stdout"
        },
        {
          "output_type": "execute_result",
          "data": {
            "text/plain": [
              "True"
            ]
          },
          "metadata": {
            "tags": []
          },
          "execution_count": 8
        }
      ]
    },
    {
      "cell_type": "code",
      "metadata": {
        "id": "k4YIaqdOgolI",
        "colab_type": "code",
        "colab": {}
      },
      "source": [
        "from nltk import stem"
      ],
      "execution_count": 0,
      "outputs": []
    },
    {
      "cell_type": "code",
      "metadata": {
        "id": "aJQH4QtigyGf",
        "colab_type": "code",
        "colab": {}
      },
      "source": [
        "word_list = ['organize', 'organizes', 'organizing']"
      ],
      "execution_count": 0,
      "outputs": []
    },
    {
      "cell_type": "code",
      "metadata": {
        "id": "VmNxZa2Mg4-C",
        "colab_type": "code",
        "colab": {}
      },
      "source": [
        "wnl = stem.WordNetLemmatizer()\n",
        "porter = stem.porter.PorterStemmer()"
      ],
      "execution_count": 0,
      "outputs": []
    },
    {
      "cell_type": "code",
      "metadata": {
        "id": "tJjeNSumhALg",
        "colab_type": "code",
        "colab": {
          "base_uri": "https://localhost:8080/",
          "height": 34
        },
        "outputId": "6b95dd57-fd58-4055-c12e-478035aa3896"
      },
      "source": [
        "[wnl.lemmatize(word) for word in word_list]"
      ],
      "execution_count": 12,
      "outputs": [
        {
          "output_type": "execute_result",
          "data": {
            "text/plain": [
              "['organize', 'organizes', 'organizing']"
            ]
          },
          "metadata": {
            "tags": []
          },
          "execution_count": 12
        }
      ]
    },
    {
      "cell_type": "code",
      "metadata": {
        "id": "iEidL4OdhGep",
        "colab_type": "code",
        "colab": {
          "base_uri": "https://localhost:8080/",
          "height": 34
        },
        "outputId": "bb79a172-30b1-451e-fe4e-769b227a7d08"
      },
      "source": [
        "[porter.stem(word) for word in word_list]"
      ],
      "execution_count": 13,
      "outputs": [
        {
          "output_type": "execute_result",
          "data": {
            "text/plain": [
              "['organ', 'organ', 'organ']"
            ]
          },
          "metadata": {
            "tags": []
          },
          "execution_count": 13
        }
      ]
    },
    {
      "cell_type": "markdown",
      "metadata": {
        "id": "zZWDbQ9jhYow",
        "colab_type": "text"
      },
      "source": [
        "### **Spacy**"
      ]
    },
    {
      "cell_type": "markdown",
      "metadata": {
        "id": "ij2XMtv4hjEL",
        "colab_type": "text"
      },
      "source": [
        "Spacy is a modern and fast nlp library. "
      ]
    },
    {
      "cell_type": "code",
      "metadata": {
        "id": "dOdjGr8PhG7D",
        "colab_type": "code",
        "colab": {
          "base_uri": "https://localhost:8080/",
          "height": 306
        },
        "outputId": "1c5f322a-bd11-4b3e-a711-a62539bd6824"
      },
      "source": [
        "!pip install spacy"
      ],
      "execution_count": 14,
      "outputs": [
        {
          "output_type": "stream",
          "text": [
            "Requirement already satisfied: spacy in /usr/local/lib/python3.6/dist-packages (2.1.4)\n",
            "Requirement already satisfied: preshed<2.1.0,>=2.0.1 in /usr/local/lib/python3.6/dist-packages (from spacy) (2.0.1)\n",
            "Requirement already satisfied: plac<1.0.0,>=0.9.6 in /usr/local/lib/python3.6/dist-packages (from spacy) (0.9.6)\n",
            "Requirement already satisfied: jsonschema<3.1.0,>=2.6.0 in /usr/local/lib/python3.6/dist-packages (from spacy) (2.6.0)\n",
            "Requirement already satisfied: thinc<7.1.0,>=7.0.2 in /usr/local/lib/python3.6/dist-packages (from spacy) (7.0.4)\n",
            "Requirement already satisfied: cymem<2.1.0,>=2.0.2 in /usr/local/lib/python3.6/dist-packages (from spacy) (2.0.2)\n",
            "Requirement already satisfied: srsly<1.1.0,>=0.0.5 in /usr/local/lib/python3.6/dist-packages (from spacy) (0.0.7)\n",
            "Requirement already satisfied: numpy>=1.15.0 in /usr/local/lib/python3.6/dist-packages (from spacy) (1.16.4)\n",
            "Requirement already satisfied: requests<3.0.0,>=2.13.0 in /usr/local/lib/python3.6/dist-packages (from spacy) (2.21.0)\n",
            "Requirement already satisfied: murmurhash<1.1.0,>=0.28.0 in /usr/local/lib/python3.6/dist-packages (from spacy) (1.0.2)\n",
            "Requirement already satisfied: wasabi<1.1.0,>=0.2.0 in /usr/local/lib/python3.6/dist-packages (from spacy) (0.2.2)\n",
            "Requirement already satisfied: blis<0.3.0,>=0.2.2 in /usr/local/lib/python3.6/dist-packages (from spacy) (0.2.4)\n",
            "Requirement already satisfied: tqdm<5.0.0,>=4.10.0 in /usr/local/lib/python3.6/dist-packages (from thinc<7.1.0,>=7.0.2->spacy) (4.28.1)\n",
            "Requirement already satisfied: idna<2.9,>=2.5 in /usr/local/lib/python3.6/dist-packages (from requests<3.0.0,>=2.13.0->spacy) (2.8)\n",
            "Requirement already satisfied: chardet<3.1.0,>=3.0.2 in /usr/local/lib/python3.6/dist-packages (from requests<3.0.0,>=2.13.0->spacy) (3.0.4)\n",
            "Requirement already satisfied: urllib3<1.25,>=1.21.1 in /usr/local/lib/python3.6/dist-packages (from requests<3.0.0,>=2.13.0->spacy) (1.24.3)\n",
            "Requirement already satisfied: certifi>=2017.4.17 in /usr/local/lib/python3.6/dist-packages (from requests<3.0.0,>=2.13.0->spacy) (2019.6.16)\n"
          ],
          "name": "stdout"
        }
      ]
    },
    {
      "cell_type": "code",
      "metadata": {
        "id": "rO_lLL7ih1U8",
        "colab_type": "code",
        "colab": {
          "base_uri": "https://localhost:8080/",
          "height": 88
        },
        "outputId": "9534e464-600b-4355-f97f-495d019cf244"
      },
      "source": [
        "!spacy download en_core_web_sm"
      ],
      "execution_count": 15,
      "outputs": [
        {
          "output_type": "stream",
          "text": [
            "Requirement already satisfied: en_core_web_sm==2.1.0 from https://github.com/explosion/spacy-models/releases/download/en_core_web_sm-2.1.0/en_core_web_sm-2.1.0.tar.gz#egg=en_core_web_sm==2.1.0 in /usr/local/lib/python3.6/dist-packages (2.1.0)\n",
            "\u001b[38;5;2m✔ Download and installation successful\u001b[0m\n",
            "You can now load the model via spacy.load('en_core_web_sm')\n"
          ],
          "name": "stdout"
        }
      ]
    },
    {
      "cell_type": "code",
      "metadata": {
        "id": "MmVy1bLXh7LJ",
        "colab_type": "code",
        "colab": {}
      },
      "source": [
        "import spacy\n",
        "from spacy.lemmatizer import Lemmatizer"
      ],
      "execution_count": 0,
      "outputs": []
    },
    {
      "cell_type": "code",
      "metadata": {
        "id": "so9Y1bCiiRkr",
        "colab_type": "code",
        "colab": {}
      },
      "source": [
        "lemmatizer = Lemmatizer()"
      ],
      "execution_count": 0,
      "outputs": []
    },
    {
      "cell_type": "code",
      "metadata": {
        "id": "ApdeYJKDiUXX",
        "colab_type": "code",
        "colab": {
          "base_uri": "https://localhost:8080/",
          "height": 34
        },
        "outputId": "c08e84df-0538-4b8c-d28d-4ccc80f73429"
      },
      "source": [
        "[lemmatizer.lookup(word) for word in word_list]"
      ],
      "execution_count": 18,
      "outputs": [
        {
          "output_type": "execute_result",
          "data": {
            "text/plain": [
              "['organize', 'organizes', 'organizing']"
            ]
          },
          "metadata": {
            "tags": []
          },
          "execution_count": 18
        }
      ]
    },
    {
      "cell_type": "markdown",
      "metadata": {
        "id": "slcPLsDQiir7",
        "colab_type": "text"
      },
      "source": [
        "**Spacy** doesn't offer a stemmer."
      ]
    },
    {
      "cell_type": "markdown",
      "metadata": {
        "id": "1bRx_ripiv3W",
        "colab_type": "text"
      },
      "source": [
        "As we know, there's no standard deffinition of stop words. We can see that the ones defined in spacy are different from the ones in sklearn."
      ]
    },
    {
      "cell_type": "code",
      "metadata": {
        "id": "klKPSqkqiaGz",
        "colab_type": "code",
        "colab": {
          "base_uri": "https://localhost:8080/",
          "height": 357
        },
        "outputId": "2cc66a81-9bb2-4de4-bbf4-220e19bc0a32"
      },
      "source": [
        "nlp = spacy.load(\"en_core_web_sm\")\n",
        "sorted(list(nlp.Defaults.stop_words))[:20]"
      ],
      "execution_count": 19,
      "outputs": [
        {
          "output_type": "execute_result",
          "data": {
            "text/plain": [
              "[\"'d\",\n",
              " \"'ll\",\n",
              " \"'m\",\n",
              " \"'re\",\n",
              " \"'s\",\n",
              " \"'ve\",\n",
              " 'a',\n",
              " 'about',\n",
              " 'above',\n",
              " 'across',\n",
              " 'after',\n",
              " 'afterwards',\n",
              " 'again',\n",
              " 'against',\n",
              " 'all',\n",
              " 'almost',\n",
              " 'alone',\n",
              " 'along',\n",
              " 'already',\n",
              " 'also']"
            ]
          },
          "metadata": {
            "tags": []
          },
          "execution_count": 19
        }
      ]
    },
    {
      "cell_type": "markdown",
      "metadata": {
        "id": "j-pERgsYjV_P",
        "colab_type": "text"
      },
      "source": [
        "It's important to bear in mind all of these variables, cause they can hurt our performance when using deep learning techniques if we don't use them properly."
      ]
    },
    {
      "cell_type": "markdown",
      "metadata": {
        "id": "MyWBYNmxjsCm",
        "colab_type": "text"
      },
      "source": [
        "## **Data processing**"
      ]
    },
    {
      "cell_type": "markdown",
      "metadata": {
        "id": "knipd3cfjvw7",
        "colab_type": "text"
      },
      "source": [
        "**Scikit learn** has a method that extracts all te word counts."
      ]
    },
    {
      "cell_type": "code",
      "metadata": {
        "id": "M8xbr2gsjEt9",
        "colab_type": "code",
        "colab": {}
      },
      "source": [
        "from sklearn.feature_extraction.text import CountVectorizer, TfidfVectorizer\n",
        "import nltk"
      ],
      "execution_count": 0,
      "outputs": []
    },
    {
      "cell_type": "code",
      "metadata": {
        "id": "dpbOV1XBj-aL",
        "colab_type": "code",
        "colab": {
          "base_uri": "https://localhost:8080/",
          "height": 34
        },
        "outputId": "fbfe9f57-adfe-4fca-85f8-9c7b7f5f7d88"
      },
      "source": [
        "vectorizer = CountVectorizer(stop_words='english')\n",
        "\n",
        "vectors = vectorizer.fit_transform(newsgroups_train.data).todense() \n",
        "vectors.shape # returns number of documents and words"
      ],
      "execution_count": 21,
      "outputs": [
        {
          "output_type": "execute_result",
          "data": {
            "text/plain": [
              "(2034, 26576)"
            ]
          },
          "metadata": {
            "tags": []
          },
          "execution_count": 21
        }
      ]
    },
    {
      "cell_type": "code",
      "metadata": {
        "id": "YJG46UdakAOQ",
        "colab_type": "code",
        "colab": {
          "base_uri": "https://localhost:8080/",
          "height": 85
        },
        "outputId": "f2c48466-bfbd-4c46-b6c0-dee1d63592d5"
      },
      "source": [
        "vocab = np.array(vectorizer.get_feature_names())\n",
        "vocab[3000:3020]"
      ],
      "execution_count": 22,
      "outputs": [
        {
          "output_type": "execute_result",
          "data": {
            "text/plain": [
              "array(['alexei', 'alexia', 'alexis', 'alfonso', 'alford', 'alfred', 'alg',\n",
              "       'algebraic', 'algebraically', 'algeria', 'algiers', 'algiorithm',\n",
              "       'algirithm', 'algo', 'algo_count', 'algonquin', 'algorhtyms',\n",
              "       'algorithm', 'algorithmic', 'algorithmically'], dtype='<U80')"
            ]
          },
          "metadata": {
            "tags": []
          },
          "execution_count": 22
        }
      ]
    },
    {
      "cell_type": "markdown",
      "metadata": {
        "id": "zBEZUhD9kmZ6",
        "colab_type": "text"
      },
      "source": [
        "## **Singular Value Decomposition**"
      ]
    },
    {
      "cell_type": "markdown",
      "metadata": {
        "id": "GCTVl-EImTUP",
        "colab_type": "text"
      },
      "source": [
        "With sVD we can get topics of ur documents, despite the fact that it's an unsupervised algorithm."
      ]
    },
    {
      "cell_type": "code",
      "metadata": {
        "id": "CjDVnUTRkdIC",
        "colab_type": "code",
        "colab": {}
      },
      "source": [
        "num_top_words=8\n",
        "\n",
        "def show_topics(a):\n",
        "    top_words = lambda t: [vocab[i] for i in np.argsort(t)[:-num_top_words-1:-1]]\n",
        "    topic_words = ([top_words(t) for t in a])\n",
        "    return [' '.join(t) for t in topic_words]"
      ],
      "execution_count": 0,
      "outputs": []
    },
    {
      "cell_type": "code",
      "metadata": {
        "id": "-8VeF9iUlxH-",
        "colab_type": "code",
        "colab": {
          "base_uri": "https://localhost:8080/",
          "height": 51
        },
        "outputId": "62923beb-8510-4879-9bd4-21548f64ce9d"
      },
      "source": [
        "time U, s, Vh = linalg.svd(vectors, full_matrices=False)"
      ],
      "execution_count": 24,
      "outputs": [
        {
          "output_type": "stream",
          "text": [
            "CPU times: user 1min 21s, sys: 4.6 s, total: 1min 25s\n",
            "Wall time: 44.1 s\n"
          ],
          "name": "stdout"
        }
      ]
    },
    {
      "cell_type": "code",
      "metadata": {
        "id": "VYLM_g2_lQrK",
        "colab_type": "code",
        "colab": {
          "base_uri": "https://localhost:8080/",
          "height": 102
        },
        "outputId": "db3fc6b6-ae0c-4c1a-8b13-37ce3e8e623e"
      },
      "source": [
        "show_topics(Vh[:5])"
      ],
      "execution_count": 25,
      "outputs": [
        {
          "output_type": "execute_result",
          "data": {
            "text/plain": [
              "['ditto critus propagandist surname galacticentric kindergarten surreal imaginative',\n",
              " 'jpeg gif file color quality image jfif format',\n",
              " 'graphics edu pub mail 128 3d ray ftp',\n",
              " 'jesus god matthew people atheists atheism does graphics',\n",
              " 'image data processing analysis software available tools display']"
            ]
          },
          "metadata": {
            "tags": []
          },
          "execution_count": 25
        }
      ]
    },
    {
      "cell_type": "markdown",
      "metadata": {
        "id": "FXEDtQw9moEI",
        "colab_type": "text"
      },
      "source": [
        "## **Non-negative Matrix Factorization (NMF)**"
      ]
    },
    {
      "cell_type": "markdown",
      "metadata": {
        "id": "54EHg5JmmxRr",
        "colab_type": "text"
      },
      "source": [
        "We'll use NMF from sklearn."
      ]
    },
    {
      "cell_type": "code",
      "metadata": {
        "id": "hjnCoArHlRFn",
        "colab_type": "code",
        "colab": {}
      },
      "source": [
        "m, n = vectors.shape\n",
        "topics = 7 "
      ],
      "execution_count": 0,
      "outputs": []
    },
    {
      "cell_type": "code",
      "metadata": {
        "id": "CqjlT40Fm5Or",
        "colab_type": "code",
        "colab": {}
      },
      "source": [
        "clf = decomposition.NMF(n_components=topics, random_state=1)\n",
        "\n",
        "W1 = clf.fit_transform(vectors)\n",
        "H1 = clf.components_"
      ],
      "execution_count": 0,
      "outputs": []
    },
    {
      "cell_type": "code",
      "metadata": {
        "id": "QqzDb17fm6nB",
        "colab_type": "code",
        "colab": {
          "base_uri": "https://localhost:8080/",
          "height": 136
        },
        "outputId": "e8def1db-b451-4bd2-df31-a9c52a942ca8"
      },
      "source": [
        "show_topics(H1)"
      ],
      "execution_count": 28,
      "outputs": [
        {
          "output_type": "execute_result",
          "data": {
            "text/plain": [
              "['jpeg image gif file color images format quality',\n",
              " 'edu graphics pub mail 128 ray send ftp',\n",
              " 'launch space satellite commercial market satellites year data',\n",
              " 'jesus matthew prophecy people said messiah david isaiah',\n",
              " 'image data available software processing ftp edu analysis',\n",
              " 'god atheists atheism religious believe people religion does',\n",
              " 'space nasa lunar mars earth shuttle mission probe']"
            ]
          },
          "metadata": {
            "tags": []
          },
          "execution_count": 28
        }
      ]
    },
    {
      "cell_type": "markdown",
      "metadata": {
        "id": "XJoN4_MBnWwb",
        "colab_type": "text"
      },
      "source": [
        "## **Topic Frequency-Inverse Document Frequency **"
      ]
    },
    {
      "cell_type": "markdown",
      "metadata": {
        "id": "1gaSmuGLna5M",
        "colab_type": "text"
      },
      "source": [
        "TF-IDF is a way to normalize term counts by taking into account how often they appear in a document, how long the document is, and how commmon/rare the term is."
      ]
    },
    {
      "cell_type": "code",
      "metadata": {
        "id": "0FhztZAlm8Bk",
        "colab_type": "code",
        "colab": {}
      },
      "source": [
        "vectorizer_tfidf = TfidfVectorizer(stop_words='english')\n",
        "vectors_tfidf = vectorizer_tfidf.fit_transform(newsgroups_train.data) # (documents, vocab)"
      ],
      "execution_count": 0,
      "outputs": []
    },
    {
      "cell_type": "code",
      "metadata": {
        "id": "Wo_j15tenlsq",
        "colab_type": "code",
        "colab": {
          "base_uri": "https://localhost:8080/",
          "height": 71
        },
        "outputId": "ab512a65-0216-4fd9-fdd5-7988efd4b457"
      },
      "source": [
        "newsgroups_train.data[10:12]"
      ],
      "execution_count": 30,
      "outputs": [
        {
          "output_type": "execute_result",
          "data": {
            "text/plain": [
              "[\"a\\n\\nWhat about positional uncertainties in S-L 1993e?   I assume we know where\\nand what Galileo is doing within a few meters.   But without the\\nHGA,  don't we have to have some pretty good ideas, of where to look\\nbefore imaging?  If the HGA was working,  they could slew around\\nin near real time (Less speed of light delay).  But when they were\\nimaging toutatis????  didn't someone have to get lucky on a guess to\\nfind the first images?   \\n\\nAlso, I imagine S-L 1993e will be mostly a visual image.  so how will\\nthat affect the other imaging missions.  with the LGA,  there is a real\\ntight allocation of bandwidth.   It may be premature to hope for answers,\\nbut I thought i'd throw it on the floor.\",\n",
              " \"I would like to program Tseng ET4000 to nonstandard 1024x768 mode by\\nswitching to standard 1024x768 mode using BIOS and than changing some\\ntiming details (0x3D4 registers 0x00-0x1F) but I don't know how to\\nselect 36 MHz pixel clock I need. The BIOS function selects 40 MHz.\\n\\nIs there anybody who knows where to obtain technical info about this.\\nI am also interested in any other technical information about Tseng ET4000\\nand Trident 8900 and 9000 chipsets.\\n\\n\\t\\t\\tthanks very much\"]"
            ]
          },
          "metadata": {
            "tags": []
          },
          "execution_count": 30
        }
      ]
    },
    {
      "cell_type": "code",
      "metadata": {
        "id": "d87M_-Etno0x",
        "colab_type": "code",
        "colab": {
          "base_uri": "https://localhost:8080/",
          "height": 136
        },
        "outputId": "bc64a9d6-18de-45a7-f1c0-39a4053a9826"
      },
      "source": [
        "W1 = clf.fit_transform(vectors_tfidf)\n",
        "H1 = clf.components_\n",
        "\n",
        "show_topics(H1)"
      ],
      "execution_count": 31,
      "outputs": [
        {
          "output_type": "execute_result",
          "data": {
            "text/plain": [
              "['don people think just like know say religion',\n",
              " 'thanks files file image program windows format know',\n",
              " 'space nasa launch shuttle orbit lunar moon earth',\n",
              " 'ico bobbe tek beauchaine bronx manhattan sank queens',\n",
              " 'god jesus bible believe atheism christian belief does',\n",
              " 'objective morality values moral subjective science absolute claim',\n",
              " 'graphics comp software group 3d aspects amiga just']"
            ]
          },
          "metadata": {
            "tags": []
          },
          "execution_count": 31
        }
      ]
    },
    {
      "cell_type": "code",
      "metadata": {
        "id": "J2LJw_nFnuv6",
        "colab_type": "code",
        "colab": {
          "base_uri": "https://localhost:8080/",
          "height": 286
        },
        "outputId": "bae045d9-d2ac-4cf7-b486-6095b3c466dd"
      },
      "source": [
        "plt.plot(clf.components_[0])"
      ],
      "execution_count": 32,
      "outputs": [
        {
          "output_type": "execute_result",
          "data": {
            "text/plain": [
              "[<matplotlib.lines.Line2D at 0x7ff3e2c8c9e8>]"
            ]
          },
          "metadata": {
            "tags": []
          },
          "execution_count": 32
        },
        {
          "output_type": "display_data",
          "data": {
            "image/png": "[encoded data removed]",
            "text/plain": [
              "<Figure size 432x288 with 1 Axes>"
            ]
          },
          "metadata": {
            "tags": []
          }
        }
      ]
    },
    {
      "cell_type": "code",
      "metadata": {
        "id": "kbRS8Oimnx0X",
        "colab_type": "code",
        "colab": {}
      },
      "source": [
        ""
      ],
      "execution_count": 0,
      "outputs": []
    }
  ]
}
